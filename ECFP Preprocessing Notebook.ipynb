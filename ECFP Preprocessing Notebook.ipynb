{
 "cells": [
  {
   "cell_type": "markdown",
   "metadata": {},
   "source": [
    "### Notebook Author: Jonathan McNutt\n",
    "#### Date: 04/16/2018\n",
    "\n",
    "Code completed as part of a Harvard graduate student faculty aide research project during the Spring 2018 semester for a presentation on high-dimensional visualization techniques, presented by Professor Peter Henstock during the Bio-IT World 2018 Conference in Boston, MA.\n"
   ]
  },
  {
   "cell_type": "code",
   "execution_count": 45,
   "metadata": {
    "collapsed": true
   },
   "outputs": [],
   "source": [
    "import pandas as pd\n",
    "import numpy as np"
   ]
  },
  {
   "cell_type": "code",
   "execution_count": 46,
   "metadata": {
    "collapsed": true
   },
   "outputs": [],
   "source": [
    "# Set the input_csv_file_name variable\n",
    "input_csv_file_name = \"ugiSmiles100000aECFP.csv\""
   ]
  },
  {
   "cell_type": "code",
   "execution_count": 47,
   "metadata": {
    "collapsed": true
   },
   "outputs": [],
   "source": [
    "# Set the output_txt_file_name variable\n",
    "output_txt_file_name = \"test_ECFP_a.txt\""
   ]
  },
  {
   "cell_type": "code",
   "execution_count": 48,
   "metadata": {
    "collapsed": true
   },
   "outputs": [],
   "source": [
    "df = pd.read_csv(input_csv_file_name)"
   ]
  },
  {
   "cell_type": "code",
   "execution_count": 49,
   "metadata": {},
   "outputs": [
    {
     "data": {
      "text/html": [
       "<div>\n",
       "<style>\n",
       "    .dataframe thead tr:only-child th {\n",
       "        text-align: right;\n",
       "    }\n",
       "\n",
       "    .dataframe thead th {\n",
       "        text-align: left;\n",
       "    }\n",
       "\n",
       "    .dataframe tbody tr th {\n",
       "        vertical-align: top;\n",
       "    }\n",
       "</style>\n",
       "<table border=\"1\" class=\"dataframe\">\n",
       "  <thead>\n",
       "    <tr style=\"text-align: right;\">\n",
       "      <th></th>\n",
       "      <th>PCAT_CMPD_ID</th>\n",
       "      <th>smiles</th>\n",
       "      <th>ECFP6_fp</th>\n",
       "    </tr>\n",
       "  </thead>\n",
       "  <tbody>\n",
       "    <tr>\n",
       "      <th>0</th>\n",
       "      <td>pvh13</td>\n",
       "      <td>CCCCNC(=O)C(C1CCC=CC1)N(C1CCCC1)C(=O)C1(CC1)c1...</td>\n",
       "      <td>115,200,281,323,378,438,481,528,534,602,697,71...</td>\n",
       "    </tr>\n",
       "    <tr>\n",
       "      <th>1</th>\n",
       "      <td>pvh15</td>\n",
       "      <td>Cc1cccc(C)c1NC(=O)C(C1CCC=CC1)N(C1CCCC1)C(=O)C...</td>\n",
       "      <td>115,200,281,323,378,438,481,528,534,611,697,71...</td>\n",
       "    </tr>\n",
       "    <tr>\n",
       "      <th>2</th>\n",
       "      <td>pvh19</td>\n",
       "      <td>CC(C)(C)NC(=O)C(c1n(C)ccc1)N(C1CCCC1)C(=O)C1(C...</td>\n",
       "      <td>115,323,345,378,649,711,772,788,792,808,859,86...</td>\n",
       "    </tr>\n",
       "    <tr>\n",
       "      <th>3</th>\n",
       "      <td>pvh29</td>\n",
       "      <td>CC(C)(CC(C)(C)C)NC(=O)C(c1c(Cl)cccc1)N(C1CCCC1...</td>\n",
       "      <td>115,221,323,345,378,395,506,521,711,772,788,79...</td>\n",
       "    </tr>\n",
       "    <tr>\n",
       "      <th>4</th>\n",
       "      <td>pvh42</td>\n",
       "      <td>Cc1cccc(C)c1NC(=O)C(c1c(OC)cccc1)N(C1CCCC1)C(=...</td>\n",
       "      <td>6,115,323,345,378,611,711,772,788,792,808,874,...</td>\n",
       "    </tr>\n",
       "    <tr>\n",
       "      <th>5</th>\n",
       "      <td>pvh57</td>\n",
       "      <td>c1ccccc1CNC(=O)C(c1c(C(F)(F)F)cccc1)N(C1CCCC1)...</td>\n",
       "      <td>81,115,170,199,249,323,345,346,378,429,711,772...</td>\n",
       "    </tr>\n",
       "    <tr>\n",
       "      <th>6</th>\n",
       "      <td>pvh74</td>\n",
       "      <td>CC(C)(CC(C)(C)C)NC(=O)C(c1c(C)c(C)c(cc1)OC)N(C...</td>\n",
       "      <td>115,245,323,345,378,395,506,521,676,703,711,77...</td>\n",
       "    </tr>\n",
       "    <tr>\n",
       "      <th>7</th>\n",
       "      <td>pvh79</td>\n",
       "      <td>CC(C)NC(=O)C(c1c(C)c(C)c(cc1)OC)N(C1CCCC1)C(=O...</td>\n",
       "      <td>115,245,323,345,378,628,655,676,703,711,772,78...</td>\n",
       "    </tr>\n",
       "    <tr>\n",
       "      <th>8</th>\n",
       "      <td>pvh96</td>\n",
       "      <td>Cc1cccc(C)c1NC(=O)C(c1cc(OC)c(OC)c(c1)OC)N(C1C...</td>\n",
       "      <td>115,323,345,378,400,474,611,711,728,763,772,78...</td>\n",
       "    </tr>\n",
       "    <tr>\n",
       "      <th>9</th>\n",
       "      <td>pvh100</td>\n",
       "      <td>CC(C)(C)NC(=O)C(N(C1CCCC1)C(=O)C1(CC1)c1ccc(Cl...</td>\n",
       "      <td>81,115,301,323,345,378,429,579,649,711,728,763...</td>\n",
       "    </tr>\n",
       "    <tr>\n",
       "      <th>10</th>\n",
       "      <td>pvh113</td>\n",
       "      <td>C1CCCCC1NC(=O)C(c1cc(C)ccc1)N(C1CCCC1)C(=O)C1(...</td>\n",
       "      <td>87,115,230,323,345,378,521,573,639,711,728,763...</td>\n",
       "    </tr>\n",
       "    <tr>\n",
       "      <th>11</th>\n",
       "      <td>pvh135</td>\n",
       "      <td>CCCCCCNC(=O)C(c1ccc(cc1)OC)N(C1CCCC1)C(=O)C1(C...</td>\n",
       "      <td>115,323,345,376,378,602,708,711,741,763,772,78...</td>\n",
       "    </tr>\n",
       "    <tr>\n",
       "      <th>12</th>\n",
       "      <td>pvh142</td>\n",
       "      <td>CC(C)NC(=O)C(c1c2c(nc3c1cccc3)ccc(c2)C)N(C1CCC...</td>\n",
       "      <td>28,115,144,230,237,323,345,378,380,382,544,628...</td>\n",
       "    </tr>\n",
       "    <tr>\n",
       "      <th>13</th>\n",
       "      <td>pvh148</td>\n",
       "      <td>CCCCNC(=O)C(c1cccs1)N(C1CCCC1)C(=O)C1(CC1)c1cc...</td>\n",
       "      <td>95,115,156,323,345,378,404,602,711,741,772,788...</td>\n",
       "    </tr>\n",
       "    <tr>\n",
       "      <th>14</th>\n",
       "      <td>pvh153</td>\n",
       "      <td>CCCCCCNC(=O)C(c1cccs1)N(C1CCCC1)C(=O)C1(CC1)c1...</td>\n",
       "      <td>95,115,156,323,345,376,378,404,602,708,711,741...</td>\n",
       "    </tr>\n",
       "    <tr>\n",
       "      <th>15</th>\n",
       "      <td>pvh155</td>\n",
       "      <td>CC(C)(CC(C)(C)C)NC(=O)C(c1cc2c(cc1)OCO2)N(C1CC...</td>\n",
       "      <td>1,115,307,323,345,378,395,454,506,521,677,711,...</td>\n",
       "    </tr>\n",
       "    <tr>\n",
       "      <th>16</th>\n",
       "      <td>pvh156</td>\n",
       "      <td>c1ccccc1CNC(=O)C(c1cc2c(cc1)OCO2)N(C1CCCC1)C(=...</td>\n",
       "      <td>1,81,115,170,307,323,345,378,429,454,677,711,7...</td>\n",
       "    </tr>\n",
       "    <tr>\n",
       "      <th>17</th>\n",
       "      <td>pvh157</td>\n",
       "      <td>CCCCNC(=O)C(c1cc2c(cc1)OCO2)N(C1CCCC1)C(=O)C1(...</td>\n",
       "      <td>1,115,307,323,345,378,454,602,677,711,728,741,...</td>\n",
       "    </tr>\n",
       "    <tr>\n",
       "      <th>18</th>\n",
       "      <td>pvh168</td>\n",
       "      <td>Cc1cccc(C)c1NC(=O)C(c1cccnc1)N(C1CCCC1)C(=O)C1...</td>\n",
       "      <td>115,281,323,345,348,378,611,711,763,772,788,79...</td>\n",
       "    </tr>\n",
       "    <tr>\n",
       "      <th>19</th>\n",
       "      <td>pvh175</td>\n",
       "      <td>CCCCNC(=O)C(c1cc2c(nc1)cccc2)N(C1CCCC1)C(=O)C1...</td>\n",
       "      <td>33,56,115,323,345,378,602,665,704,711,728,741,...</td>\n",
       "    </tr>\n",
       "    <tr>\n",
       "      <th>20</th>\n",
       "      <td>pvh182</td>\n",
       "      <td>CC(C)(CC(C)(C)C)NC(=O)C(c1ccc(cc1)C(F)(F)F)N(C...</td>\n",
       "      <td>67,115,323,345,378,395,506,521,711,763,772,788...</td>\n",
       "    </tr>\n",
       "    <tr>\n",
       "      <th>21</th>\n",
       "      <td>pvh186</td>\n",
       "      <td>Cc1cccc(C)c1NC(=O)C(c1ccc(cc1)C(F)(F)F)N(C1CCC...</td>\n",
       "      <td>67,115,323,345,378,471,611,711,763,772,788,792...</td>\n",
       "    </tr>\n",
       "    <tr>\n",
       "      <th>22</th>\n",
       "      <td>pvh192</td>\n",
       "      <td>c1ccccc1CNC(=O)C(C(C)C)N(C1CCCC1)C(=O)C1(CC1)c...</td>\n",
       "      <td>76,81,115,323,378,429,575,642,711,772,788,792,...</td>\n",
       "    </tr>\n",
       "    <tr>\n",
       "      <th>23</th>\n",
       "      <td>pvh197</td>\n",
       "      <td>C1COCCN1CCNC(=O)C(C(C)C)N(C1CCCC1)C(=O)C1(CC1)...</td>\n",
       "      <td>19,76,115,120,172,323,378,431,543,575,642,711,...</td>\n",
       "    </tr>\n",
       "    <tr>\n",
       "      <th>24</th>\n",
       "      <td>pvh201</td>\n",
       "      <td>c1ccccc1CNC(=O)C(C(C)CC)N(C1CCCC1)C(=O)C1(CC1)...</td>\n",
       "      <td>81,115,323,378,429,711,772,788,792,808,874,924...</td>\n",
       "    </tr>\n",
       "    <tr>\n",
       "      <th>25</th>\n",
       "      <td>pvh207</td>\n",
       "      <td>CCCCCCNC(=O)C(C(C)CC)N(C1CCCC1)C(=O)C1(CC1)c1c...</td>\n",
       "      <td>115,323,376,378,602,656,708,711,741,772,788,79...</td>\n",
       "    </tr>\n",
       "    <tr>\n",
       "      <th>26</th>\n",
       "      <td>pvh227</td>\n",
       "      <td>CC(C)(CC(C)(C)C)NC(=O)C(N(C1CCCC1)C(=O)C1(CC1)...</td>\n",
       "      <td>68,115,203,323,371,378,379,395,416,506,521,602...</td>\n",
       "    </tr>\n",
       "    <tr>\n",
       "      <th>27</th>\n",
       "      <td>pvh229</td>\n",
       "      <td>CCCCNC(=O)C(N(C1CCCC1)C(=O)C1(CC1)c1ccc(Cl)cc1...</td>\n",
       "      <td>115,323,378,379,416,602,664,711,741,772,788,79...</td>\n",
       "    </tr>\n",
       "    <tr>\n",
       "      <th>28</th>\n",
       "      <td>pvh233</td>\n",
       "      <td>C1COCCN1CCNC(=O)C(N(C1CCCC1)C(=O)C1(CC1)c1ccc(...</td>\n",
       "      <td>19,115,172,323,378,379,416,431,543,602,711,741...</td>\n",
       "    </tr>\n",
       "    <tr>\n",
       "      <th>29</th>\n",
       "      <td>pvh238</td>\n",
       "      <td>CCCCNC(=O)C(c1cc2c(cc1)OCCO2)N(C1CCCC1)C(=O)C1...</td>\n",
       "      <td>1,115,307,323,345,378,602,711,728,741,763,772,...</td>\n",
       "    </tr>\n",
       "    <tr>\n",
       "      <th>...</th>\n",
       "      <td>...</td>\n",
       "      <td>...</td>\n",
       "      <td>...</td>\n",
       "    </tr>\n",
       "    <tr>\n",
       "      <th>24970</th>\n",
       "      <td>pvh416745</td>\n",
       "      <td>CCCCCCNC(=O)C(c1c(SC(C)(C)C)cccc1)N(c1c(C)cccc...</td>\n",
       "      <td>133,294,323,337,376,497,602,708,728,738,741,77...</td>\n",
       "    </tr>\n",
       "    <tr>\n",
       "      <th>24971</th>\n",
       "      <td>pvh416748</td>\n",
       "      <td>c1ccccc1CNC(=O)C(c1ccc(cc1)CCCC)N(c1c(C)cccc1C...</td>\n",
       "      <td>81,144,170,286,294,323,429,497,602,711,728,738...</td>\n",
       "    </tr>\n",
       "    <tr>\n",
       "      <th>24972</th>\n",
       "      <td>pvh416751</td>\n",
       "      <td>Cc1cccc(C)c1NC(=O)C(c1ccc(cc1)CCCC)N(c1c(C)ccc...</td>\n",
       "      <td>81,286,294,323,497,602,611,728,738,763,772,792...</td>\n",
       "    </tr>\n",
       "    <tr>\n",
       "      <th>24973</th>\n",
       "      <td>pvh416770</td>\n",
       "      <td>CC(C)NC(=O)C(c1ccc(cc1)CCC)N(c1c(C)cccc1Cl)C(=...</td>\n",
       "      <td>81,286,294,299,323,324,497,602,628,728,738,763...</td>\n",
       "    </tr>\n",
       "    <tr>\n",
       "      <th>24974</th>\n",
       "      <td>pvh416776</td>\n",
       "      <td>CCCCNC(=O)C(Cc1ccc(C)cc1)N(c1c(C)cccc1Cl)C(=O)...</td>\n",
       "      <td>53,81,230,294,323,497,498,506,602,664,667,728,...</td>\n",
       "    </tr>\n",
       "    <tr>\n",
       "      <th>24975</th>\n",
       "      <td>pvh416782</td>\n",
       "      <td>CC(C)(C)NC(=O)C(N(c1c(C)cccc1Cl)C(=O)c1c(Cl)cc...</td>\n",
       "      <td>1,13,81,294,323,329,454,497,638,649,677,728,73...</td>\n",
       "    </tr>\n",
       "    <tr>\n",
       "      <th>24976</th>\n",
       "      <td>pvh416789</td>\n",
       "      <td>C1COCCN1CCNC(=O)C(N(c1c(C)cccc1Cl)C(=O)c1c(Cl)...</td>\n",
       "      <td>1,13,19,81,172,294,323,431,454,497,543,638,677...</td>\n",
       "    </tr>\n",
       "    <tr>\n",
       "      <th>24977</th>\n",
       "      <td>pvh416793</td>\n",
       "      <td>c1ccccc1CNC(=O)C(CC(Cl)(Cl)CCCCCC)N(c1c(C)cccc...</td>\n",
       "      <td>81,90,260,294,323,361,416,429,497,602,711,728,...</td>\n",
       "    </tr>\n",
       "    <tr>\n",
       "      <th>24978</th>\n",
       "      <td>pvh416798</td>\n",
       "      <td>C1COCCN1CCNC(=O)C(CC(Cl)(Cl)CCCCCC)N(c1c(C)ccc...</td>\n",
       "      <td>19,90,172,260,294,323,361,431,497,543,602,728,...</td>\n",
       "    </tr>\n",
       "    <tr>\n",
       "      <th>24979</th>\n",
       "      <td>pvh416801</td>\n",
       "      <td>CC(C)(CC(C)(C)C)NC(=O)C(C1CC(C)C=C(C1)C)N(c1c(...</td>\n",
       "      <td>214,294,309,323,395,401,404,481,497,506,521,58...</td>\n",
       "    </tr>\n",
       "    <tr>\n",
       "      <th>24980</th>\n",
       "      <td>pvh416804</td>\n",
       "      <td>C1CCCCC1NC(=O)C(C1CC(C)C=C(C1)C)N(c1c(C)cccc1C...</td>\n",
       "      <td>87,177,214,294,309,323,374,401,404,481,497,521...</td>\n",
       "    </tr>\n",
       "    <tr>\n",
       "      <th>24981</th>\n",
       "      <td>pvh416807</td>\n",
       "      <td>C1COCCN1CCNC(=O)C(C1CC(C)C=C(C1)C)N(c1c(C)cccc...</td>\n",
       "      <td>19,172,214,294,309,323,401,404,431,481,497,543...</td>\n",
       "    </tr>\n",
       "    <tr>\n",
       "      <th>24982</th>\n",
       "      <td>pvh416811</td>\n",
       "      <td>c1ccccc1CNC(=O)C(c1c(Cl)c(OC)c(cc1)OC)N(c1c(C)...</td>\n",
       "      <td>81,133,170,294,323,390,429,474,497,711,728,738...</td>\n",
       "    </tr>\n",
       "    <tr>\n",
       "      <th>24983</th>\n",
       "      <td>pvh416812</td>\n",
       "      <td>CCCCNC(=O)C(c1c(Cl)c(c(cc1)OC)OC)N(c1c(C)cccc1...</td>\n",
       "      <td>133,294,323,390,474,497,602,728,738,741,772,79...</td>\n",
       "    </tr>\n",
       "    <tr>\n",
       "      <th>24984</th>\n",
       "      <td>pvh416821</td>\n",
       "      <td>CCCCNC(=O)C(c1cc(c(o1)C)C)N(c1c(C)cccc1Cl)C(=O...</td>\n",
       "      <td>37,294,323,326,457,497,602,728,738,741,772,792...</td>\n",
       "    </tr>\n",
       "    <tr>\n",
       "      <th>24985</th>\n",
       "      <td>pvh416822</td>\n",
       "      <td>C1CCCCC1NC(=O)C(c1cc(C)c(o1)C)N(c1c(C)cccc1Cl)...</td>\n",
       "      <td>37,87,294,323,326,497,521,639,728,738,764,772,...</td>\n",
       "    </tr>\n",
       "    <tr>\n",
       "      <th>24986</th>\n",
       "      <td>pvh416831</td>\n",
       "      <td>C1CCCCC1NC(=O)C(c1c2c(c3c(c1)CCCC3)cccc2)N(c1c...</td>\n",
       "      <td>7,87,133,147,294,323,334,349,356,428,497,521,6...</td>\n",
       "    </tr>\n",
       "    <tr>\n",
       "      <th>24987</th>\n",
       "      <td>pvh416852</td>\n",
       "      <td>C1COCCN1CCNC(=O)C(N(c1c(C)cccc1Cl)C(=O)c1c(Cl)...</td>\n",
       "      <td>19,172,294,295,301,323,431,493,497,543,690,728...</td>\n",
       "    </tr>\n",
       "    <tr>\n",
       "      <th>24988</th>\n",
       "      <td>pvh416872</td>\n",
       "      <td>CC(C)(C)NC(=O)C(N(c1c(C)cccc1Cl)C(=O)c1c(Cl)cc...</td>\n",
       "      <td>115,146,235,294,323,347,410,497,649,671,728,73...</td>\n",
       "    </tr>\n",
       "    <tr>\n",
       "      <th>24989</th>\n",
       "      <td>pvh416881</td>\n",
       "      <td>CC(C)(C)NC(=O)C(c1nc2c(n1C)cccc2)N(c1c(C)cccc1...</td>\n",
       "      <td>294,323,497,640,649,728,738,772,792,859,863,86...</td>\n",
       "    </tr>\n",
       "    <tr>\n",
       "      <th>24990</th>\n",
       "      <td>pvh416894</td>\n",
       "      <td>C1CCCCC1NC(=O)C(N(c1c(C)cccc1Cl)C(=O)c1c(Cl)cc...</td>\n",
       "      <td>87,172,214,294,323,436,497,521,639,728,738,764...</td>\n",
       "    </tr>\n",
       "    <tr>\n",
       "      <th>24991</th>\n",
       "      <td>pvh416896</td>\n",
       "      <td>CC(C)NC(=O)C(N(c1c(C)cccc1Cl)C(=O)c1c(Cl)cc(Cl...</td>\n",
       "      <td>172,214,294,315,323,436,497,628,728,738,772,79...</td>\n",
       "    </tr>\n",
       "    <tr>\n",
       "      <th>24992</th>\n",
       "      <td>pvh416897</td>\n",
       "      <td>C1COCCN1CCNC(=O)C(N(c1c(C)cccc1Cl)C(=O)c1c(Cl)...</td>\n",
       "      <td>19,172,214,294,323,431,436,497,543,728,738,741...</td>\n",
       "    </tr>\n",
       "    <tr>\n",
       "      <th>24993</th>\n",
       "      <td>pvh416898</td>\n",
       "      <td>CCCCCCNC(=O)C(N(c1c(C)cccc1Cl)C(=O)c1c(Cl)cc(C...</td>\n",
       "      <td>172,214,294,323,376,436,497,602,664,708,728,73...</td>\n",
       "    </tr>\n",
       "    <tr>\n",
       "      <th>24994</th>\n",
       "      <td>pvh416923</td>\n",
       "      <td>CC(C)NC(=O)C(CC(C)(C)c1ccccc1)N(c1c(C)cccc1Cl)...</td>\n",
       "      <td>260,294,323,399,429,497,628,728,738,772,792,86...</td>\n",
       "    </tr>\n",
       "    <tr>\n",
       "      <th>24995</th>\n",
       "      <td>pvh416926</td>\n",
       "      <td>CC(C)(C)NC(=O)C(c1ccc(cc1C)N(CC)CCCl)N(c1c(C)c...</td>\n",
       "      <td>97,133,172,294,323,480,497,649,695,728,738,772...</td>\n",
       "    </tr>\n",
       "    <tr>\n",
       "      <th>24996</th>\n",
       "      <td>pvh416927</td>\n",
       "      <td>CC(C)(CC(C)(C)C)NC(=O)C(c1ccc(cc1C)N(CC)CCCl)N...</td>\n",
       "      <td>97,133,172,294,323,395,480,497,506,521,695,728...</td>\n",
       "    </tr>\n",
       "    <tr>\n",
       "      <th>24997</th>\n",
       "      <td>pvh416931</td>\n",
       "      <td>Cc1cccc(C)c1NC(=O)C(c1c(C)cc(cc1)N(CC)CCCl)N(c...</td>\n",
       "      <td>97,133,172,187,294,323,480,497,611,695,728,738...</td>\n",
       "    </tr>\n",
       "    <tr>\n",
       "      <th>24998</th>\n",
       "      <td>pvh416939</td>\n",
       "      <td>C1CCCCC1NC(=O)C(c1oc(I)cc1)N(c1c(C)cccc1Cl)C(=...</td>\n",
       "      <td>87,294,323,410,497,521,619,639,728,738,764,772...</td>\n",
       "    </tr>\n",
       "    <tr>\n",
       "      <th>24999</th>\n",
       "      <td>pvh416945</td>\n",
       "      <td>CC(C)(CC(C)(C)C)NC(=O)C(N(c1c(C)cccc1Cl)C(=O)c...</td>\n",
       "      <td>81,294,323,371,395,429,497,506,521,699,728,738...</td>\n",
       "    </tr>\n",
       "  </tbody>\n",
       "</table>\n",
       "<p>25000 rows × 3 columns</p>\n",
       "</div>"
      ],
      "text/plain": [
       "      PCAT_CMPD_ID                                             smiles  \\\n",
       "0            pvh13  CCCCNC(=O)C(C1CCC=CC1)N(C1CCCC1)C(=O)C1(CC1)c1...   \n",
       "1            pvh15  Cc1cccc(C)c1NC(=O)C(C1CCC=CC1)N(C1CCCC1)C(=O)C...   \n",
       "2            pvh19  CC(C)(C)NC(=O)C(c1n(C)ccc1)N(C1CCCC1)C(=O)C1(C...   \n",
       "3            pvh29  CC(C)(CC(C)(C)C)NC(=O)C(c1c(Cl)cccc1)N(C1CCCC1...   \n",
       "4            pvh42  Cc1cccc(C)c1NC(=O)C(c1c(OC)cccc1)N(C1CCCC1)C(=...   \n",
       "5            pvh57  c1ccccc1CNC(=O)C(c1c(C(F)(F)F)cccc1)N(C1CCCC1)...   \n",
       "6            pvh74  CC(C)(CC(C)(C)C)NC(=O)C(c1c(C)c(C)c(cc1)OC)N(C...   \n",
       "7            pvh79  CC(C)NC(=O)C(c1c(C)c(C)c(cc1)OC)N(C1CCCC1)C(=O...   \n",
       "8            pvh96  Cc1cccc(C)c1NC(=O)C(c1cc(OC)c(OC)c(c1)OC)N(C1C...   \n",
       "9           pvh100  CC(C)(C)NC(=O)C(N(C1CCCC1)C(=O)C1(CC1)c1ccc(Cl...   \n",
       "10          pvh113  C1CCCCC1NC(=O)C(c1cc(C)ccc1)N(C1CCCC1)C(=O)C1(...   \n",
       "11          pvh135  CCCCCCNC(=O)C(c1ccc(cc1)OC)N(C1CCCC1)C(=O)C1(C...   \n",
       "12          pvh142  CC(C)NC(=O)C(c1c2c(nc3c1cccc3)ccc(c2)C)N(C1CCC...   \n",
       "13          pvh148  CCCCNC(=O)C(c1cccs1)N(C1CCCC1)C(=O)C1(CC1)c1cc...   \n",
       "14          pvh153  CCCCCCNC(=O)C(c1cccs1)N(C1CCCC1)C(=O)C1(CC1)c1...   \n",
       "15          pvh155  CC(C)(CC(C)(C)C)NC(=O)C(c1cc2c(cc1)OCO2)N(C1CC...   \n",
       "16          pvh156  c1ccccc1CNC(=O)C(c1cc2c(cc1)OCO2)N(C1CCCC1)C(=...   \n",
       "17          pvh157  CCCCNC(=O)C(c1cc2c(cc1)OCO2)N(C1CCCC1)C(=O)C1(...   \n",
       "18          pvh168  Cc1cccc(C)c1NC(=O)C(c1cccnc1)N(C1CCCC1)C(=O)C1...   \n",
       "19          pvh175  CCCCNC(=O)C(c1cc2c(nc1)cccc2)N(C1CCCC1)C(=O)C1...   \n",
       "20          pvh182  CC(C)(CC(C)(C)C)NC(=O)C(c1ccc(cc1)C(F)(F)F)N(C...   \n",
       "21          pvh186  Cc1cccc(C)c1NC(=O)C(c1ccc(cc1)C(F)(F)F)N(C1CCC...   \n",
       "22          pvh192  c1ccccc1CNC(=O)C(C(C)C)N(C1CCCC1)C(=O)C1(CC1)c...   \n",
       "23          pvh197  C1COCCN1CCNC(=O)C(C(C)C)N(C1CCCC1)C(=O)C1(CC1)...   \n",
       "24          pvh201  c1ccccc1CNC(=O)C(C(C)CC)N(C1CCCC1)C(=O)C1(CC1)...   \n",
       "25          pvh207  CCCCCCNC(=O)C(C(C)CC)N(C1CCCC1)C(=O)C1(CC1)c1c...   \n",
       "26          pvh227  CC(C)(CC(C)(C)C)NC(=O)C(N(C1CCCC1)C(=O)C1(CC1)...   \n",
       "27          pvh229  CCCCNC(=O)C(N(C1CCCC1)C(=O)C1(CC1)c1ccc(Cl)cc1...   \n",
       "28          pvh233  C1COCCN1CCNC(=O)C(N(C1CCCC1)C(=O)C1(CC1)c1ccc(...   \n",
       "29          pvh238  CCCCNC(=O)C(c1cc2c(cc1)OCCO2)N(C1CCCC1)C(=O)C1...   \n",
       "...            ...                                                ...   \n",
       "24970    pvh416745  CCCCCCNC(=O)C(c1c(SC(C)(C)C)cccc1)N(c1c(C)cccc...   \n",
       "24971    pvh416748  c1ccccc1CNC(=O)C(c1ccc(cc1)CCCC)N(c1c(C)cccc1C...   \n",
       "24972    pvh416751  Cc1cccc(C)c1NC(=O)C(c1ccc(cc1)CCCC)N(c1c(C)ccc...   \n",
       "24973    pvh416770  CC(C)NC(=O)C(c1ccc(cc1)CCC)N(c1c(C)cccc1Cl)C(=...   \n",
       "24974    pvh416776  CCCCNC(=O)C(Cc1ccc(C)cc1)N(c1c(C)cccc1Cl)C(=O)...   \n",
       "24975    pvh416782  CC(C)(C)NC(=O)C(N(c1c(C)cccc1Cl)C(=O)c1c(Cl)cc...   \n",
       "24976    pvh416789  C1COCCN1CCNC(=O)C(N(c1c(C)cccc1Cl)C(=O)c1c(Cl)...   \n",
       "24977    pvh416793  c1ccccc1CNC(=O)C(CC(Cl)(Cl)CCCCCC)N(c1c(C)cccc...   \n",
       "24978    pvh416798  C1COCCN1CCNC(=O)C(CC(Cl)(Cl)CCCCCC)N(c1c(C)ccc...   \n",
       "24979    pvh416801  CC(C)(CC(C)(C)C)NC(=O)C(C1CC(C)C=C(C1)C)N(c1c(...   \n",
       "24980    pvh416804  C1CCCCC1NC(=O)C(C1CC(C)C=C(C1)C)N(c1c(C)cccc1C...   \n",
       "24981    pvh416807  C1COCCN1CCNC(=O)C(C1CC(C)C=C(C1)C)N(c1c(C)cccc...   \n",
       "24982    pvh416811  c1ccccc1CNC(=O)C(c1c(Cl)c(OC)c(cc1)OC)N(c1c(C)...   \n",
       "24983    pvh416812  CCCCNC(=O)C(c1c(Cl)c(c(cc1)OC)OC)N(c1c(C)cccc1...   \n",
       "24984    pvh416821  CCCCNC(=O)C(c1cc(c(o1)C)C)N(c1c(C)cccc1Cl)C(=O...   \n",
       "24985    pvh416822  C1CCCCC1NC(=O)C(c1cc(C)c(o1)C)N(c1c(C)cccc1Cl)...   \n",
       "24986    pvh416831  C1CCCCC1NC(=O)C(c1c2c(c3c(c1)CCCC3)cccc2)N(c1c...   \n",
       "24987    pvh416852  C1COCCN1CCNC(=O)C(N(c1c(C)cccc1Cl)C(=O)c1c(Cl)...   \n",
       "24988    pvh416872  CC(C)(C)NC(=O)C(N(c1c(C)cccc1Cl)C(=O)c1c(Cl)cc...   \n",
       "24989    pvh416881  CC(C)(C)NC(=O)C(c1nc2c(n1C)cccc2)N(c1c(C)cccc1...   \n",
       "24990    pvh416894  C1CCCCC1NC(=O)C(N(c1c(C)cccc1Cl)C(=O)c1c(Cl)cc...   \n",
       "24991    pvh416896  CC(C)NC(=O)C(N(c1c(C)cccc1Cl)C(=O)c1c(Cl)cc(Cl...   \n",
       "24992    pvh416897  C1COCCN1CCNC(=O)C(N(c1c(C)cccc1Cl)C(=O)c1c(Cl)...   \n",
       "24993    pvh416898  CCCCCCNC(=O)C(N(c1c(C)cccc1Cl)C(=O)c1c(Cl)cc(C...   \n",
       "24994    pvh416923  CC(C)NC(=O)C(CC(C)(C)c1ccccc1)N(c1c(C)cccc1Cl)...   \n",
       "24995    pvh416926  CC(C)(C)NC(=O)C(c1ccc(cc1C)N(CC)CCCl)N(c1c(C)c...   \n",
       "24996    pvh416927  CC(C)(CC(C)(C)C)NC(=O)C(c1ccc(cc1C)N(CC)CCCl)N...   \n",
       "24997    pvh416931  Cc1cccc(C)c1NC(=O)C(c1c(C)cc(cc1)N(CC)CCCl)N(c...   \n",
       "24998    pvh416939  C1CCCCC1NC(=O)C(c1oc(I)cc1)N(c1c(C)cccc1Cl)C(=...   \n",
       "24999    pvh416945  CC(C)(CC(C)(C)C)NC(=O)C(N(c1c(C)cccc1Cl)C(=O)c...   \n",
       "\n",
       "                                                ECFP6_fp  \n",
       "0      115,200,281,323,378,438,481,528,534,602,697,71...  \n",
       "1      115,200,281,323,378,438,481,528,534,611,697,71...  \n",
       "2      115,323,345,378,649,711,772,788,792,808,859,86...  \n",
       "3      115,221,323,345,378,395,506,521,711,772,788,79...  \n",
       "4      6,115,323,345,378,611,711,772,788,792,808,874,...  \n",
       "5      81,115,170,199,249,323,345,346,378,429,711,772...  \n",
       "6      115,245,323,345,378,395,506,521,676,703,711,77...  \n",
       "7      115,245,323,345,378,628,655,676,703,711,772,78...  \n",
       "8      115,323,345,378,400,474,611,711,728,763,772,78...  \n",
       "9      81,115,301,323,345,378,429,579,649,711,728,763...  \n",
       "10     87,115,230,323,345,378,521,573,639,711,728,763...  \n",
       "11     115,323,345,376,378,602,708,711,741,763,772,78...  \n",
       "12     28,115,144,230,237,323,345,378,380,382,544,628...  \n",
       "13     95,115,156,323,345,378,404,602,711,741,772,788...  \n",
       "14     95,115,156,323,345,376,378,404,602,708,711,741...  \n",
       "15     1,115,307,323,345,378,395,454,506,521,677,711,...  \n",
       "16     1,81,115,170,307,323,345,378,429,454,677,711,7...  \n",
       "17     1,115,307,323,345,378,454,602,677,711,728,741,...  \n",
       "18     115,281,323,345,348,378,611,711,763,772,788,79...  \n",
       "19     33,56,115,323,345,378,602,665,704,711,728,741,...  \n",
       "20     67,115,323,345,378,395,506,521,711,763,772,788...  \n",
       "21     67,115,323,345,378,471,611,711,763,772,788,792...  \n",
       "22     76,81,115,323,378,429,575,642,711,772,788,792,...  \n",
       "23     19,76,115,120,172,323,378,431,543,575,642,711,...  \n",
       "24     81,115,323,378,429,711,772,788,792,808,874,924...  \n",
       "25     115,323,376,378,602,656,708,711,741,772,788,79...  \n",
       "26     68,115,203,323,371,378,379,395,416,506,521,602...  \n",
       "27     115,323,378,379,416,602,664,711,741,772,788,79...  \n",
       "28     19,115,172,323,378,379,416,431,543,602,711,741...  \n",
       "29     1,115,307,323,345,378,602,711,728,741,763,772,...  \n",
       "...                                                  ...  \n",
       "24970  133,294,323,337,376,497,602,708,728,738,741,77...  \n",
       "24971  81,144,170,286,294,323,429,497,602,711,728,738...  \n",
       "24972  81,286,294,323,497,602,611,728,738,763,772,792...  \n",
       "24973  81,286,294,299,323,324,497,602,628,728,738,763...  \n",
       "24974  53,81,230,294,323,497,498,506,602,664,667,728,...  \n",
       "24975  1,13,81,294,323,329,454,497,638,649,677,728,73...  \n",
       "24976  1,13,19,81,172,294,323,431,454,497,543,638,677...  \n",
       "24977  81,90,260,294,323,361,416,429,497,602,711,728,...  \n",
       "24978  19,90,172,260,294,323,361,431,497,543,602,728,...  \n",
       "24979  214,294,309,323,395,401,404,481,497,506,521,58...  \n",
       "24980  87,177,214,294,309,323,374,401,404,481,497,521...  \n",
       "24981  19,172,214,294,309,323,401,404,431,481,497,543...  \n",
       "24982  81,133,170,294,323,390,429,474,497,711,728,738...  \n",
       "24983  133,294,323,390,474,497,602,728,738,741,772,79...  \n",
       "24984  37,294,323,326,457,497,602,728,738,741,772,792...  \n",
       "24985  37,87,294,323,326,497,521,639,728,738,764,772,...  \n",
       "24986  7,87,133,147,294,323,334,349,356,428,497,521,6...  \n",
       "24987  19,172,294,295,301,323,431,493,497,543,690,728...  \n",
       "24988  115,146,235,294,323,347,410,497,649,671,728,73...  \n",
       "24989  294,323,497,640,649,728,738,772,792,859,863,86...  \n",
       "24990  87,172,214,294,323,436,497,521,639,728,738,764...  \n",
       "24991  172,214,294,315,323,436,497,628,728,738,772,79...  \n",
       "24992  19,172,214,294,323,431,436,497,543,728,738,741...  \n",
       "24993  172,214,294,323,376,436,497,602,664,708,728,73...  \n",
       "24994  260,294,323,399,429,497,628,728,738,772,792,86...  \n",
       "24995  97,133,172,294,323,480,497,649,695,728,738,772...  \n",
       "24996  97,133,172,294,323,395,480,497,506,521,695,728...  \n",
       "24997  97,133,172,187,294,323,480,497,611,695,728,738...  \n",
       "24998  87,294,323,410,497,521,619,639,728,738,764,772...  \n",
       "24999  81,294,323,371,395,429,497,506,521,699,728,738...  \n",
       "\n",
       "[25000 rows x 3 columns]"
      ]
     },
     "execution_count": 49,
     "metadata": {},
     "output_type": "execute_result"
    }
   ],
   "source": [
    "df"
   ]
  },
  {
   "cell_type": "code",
   "execution_count": 50,
   "metadata": {
    "collapsed": true
   },
   "outputs": [],
   "source": [
    "# Initialize the array that will hold the ECFP property values\n",
    "property_array = []"
   ]
  },
  {
   "cell_type": "code",
   "execution_count": 51,
   "metadata": {
    "collapsed": true
   },
   "outputs": [],
   "source": [
    "# Use a for loop to extract, split and append the ECFP property values to \"property_array\"\n",
    "for i in range(25000):\n",
    "    # get the numpy.ndarray class representation of the ECFP property values per \"cell\" (pandas column value per row)\n",
    "    ECFP_properties = df[i:i+1].ECFP6_fp.values\n",
    "    \n",
    "    # split each numpy.ndarray \"cell\" on the comma delimiter\n",
    "    split_properties = np.array([x.split(',') for x in ECFP_properties], dtype=np.int)\n",
    "    \n",
    "    # append the property values for each \"cell\" to the combined array\n",
    "    property_array = np.append(property_array, split_properties)"
   ]
  },
  {
   "cell_type": "code",
   "execution_count": 52,
   "metadata": {},
   "outputs": [
    {
     "name": "stdout",
     "output_type": "stream",
     "text": [
      "2142765\n"
     ]
    }
   ],
   "source": [
    "# Check the size of the final appended array    \n",
    "print(property_array.size)"
   ]
  },
  {
   "cell_type": "code",
   "execution_count": 53,
   "metadata": {
    "collapsed": true
   },
   "outputs": [],
   "source": [
    "# Create a new array, unique_properties, that holds only the unique integer values in the property_array\n",
    "unique_properties = np.unique(property_array).astype(int)"
   ]
  },
  {
   "cell_type": "code",
   "execution_count": 54,
   "metadata": {},
   "outputs": [
    {
     "name": "stdout",
     "output_type": "stream",
     "text": [
      "4027\n"
     ]
    }
   ],
   "source": [
    "# Check the size of the property array when counting only the unique values\n",
    "print(unique_properties.size)"
   ]
  },
  {
   "cell_type": "code",
   "execution_count": 55,
   "metadata": {},
   "outputs": [
    {
     "name": "stdout",
     "output_type": "stream",
     "text": [
      "[   1    2    3 ..., 4093 4094 4095]\n"
     ]
    }
   ],
   "source": [
    "# Check the final value of unique_properties\n",
    "print(unique_properties)"
   ]
  },
  {
   "cell_type": "code",
   "execution_count": 56,
   "metadata": {
    "collapsed": true
   },
   "outputs": [],
   "source": [
    "# Save the last value of unique_properties as a variable so it can be called later \n",
    "#  as the array lenth when initializing an array of zeros\n",
    "last_unique_property_value = unique_properties[len(unique_properties)-1]"
   ]
  },
  {
   "cell_type": "code",
   "execution_count": 57,
   "metadata": {},
   "outputs": [
    {
     "name": "stdout",
     "output_type": "stream",
     "text": [
      "4095\n"
     ]
    }
   ],
   "source": [
    "# Check the last value of unique_properties (this is the highest integer-value property in the CSV file)\n",
    "print(last_unique_property_value)"
   ]
  },
  {
   "cell_type": "raw",
   "metadata": {},
   "source": [
    "After creating the array unique_properties, the next step is create a binarized array of the first compound's properties, and then use a for loop to vstack all the other binarized property arrays to the first binarized property array.  Finally, the binarized output is sent to a txt file with a LargeVis formatted header added as the first row of the txt file.  The result should be that the header row contains two numbers: the first number is the total rows, and the second number is the total columns.  After the header row, the binarized output follows.  This txt file can be used as the input file in the LargeVis execution command."
   ]
  },
  {
   "cell_type": "code",
   "execution_count": 58,
   "metadata": {
    "collapsed": true
   },
   "outputs": [],
   "source": [
    "# Get the first compound's numpy.ndarray class representation of the ECFP property values\n",
    "ECFP_properties = ugiSmiles_a_ECFP_df[0:1].ECFP6_fp.values"
   ]
  },
  {
   "cell_type": "code",
   "execution_count": 59,
   "metadata": {
    "collapsed": true
   },
   "outputs": [],
   "source": [
    "# Split the numpy.ndarray \"cell\" on the comma delimiter\n",
    "split_properties = np.array([x.split(',') for x in ECFP_properties], dtype=np.int)"
   ]
  },
  {
   "cell_type": "code",
   "execution_count": 60,
   "metadata": {
    "collapsed": true
   },
   "outputs": [],
   "source": [
    "# Initialize the placeholder array of zeros to have the same number of columns as the value of the \n",
    "#  last unique property value previously stored as a variable \"last_unique_property_value\"  \n",
    "binarize_properties = np.zeros(last_unique_property_value).astype(int)"
   ]
  },
  {
   "cell_type": "code",
   "execution_count": 61,
   "metadata": {},
   "outputs": [
    {
     "data": {
      "text/plain": [
       "4095"
      ]
     },
     "execution_count": 61,
     "metadata": {},
     "output_type": "execute_result"
    }
   ],
   "source": [
    "# Check the size of the zeroed array to make sure it is the same value as \"last_unique_property_value\"\n",
    "binarize_properties.size"
   ]
  },
  {
   "cell_type": "code",
   "execution_count": 62,
   "metadata": {
    "collapsed": true
   },
   "outputs": [],
   "source": [
    "# Use a for loop to binarize the properties from the first compound\n",
    "for value in split_properties:\n",
    "    binarize_properties[value-1] = 1"
   ]
  },
  {
   "cell_type": "code",
   "execution_count": 63,
   "metadata": {},
   "outputs": [
    {
     "name": "stdout",
     "output_type": "stream",
     "text": [
      "[[ 115  200  281  323  378  438  481  528  534  602  697  711  741  772\n",
      "   788  792  808  874  908  984  998 1036 1086 1288 1322 1365 1382 1407\n",
      "  1408 1417 1576 1609 1695 1718 1733 1849 1879 1924 1998 2003 2096 2119\n",
      "  2166 2184 2237 2258 2283 2299 2318 2348 2381 2460 2723 2728 2762 2831\n",
      "  2939 2942 2955 2961 2987 3016 3021 3247 3265 3451 3465 3475 3522 3569\n",
      "  3647 3657 3662 3670 3694 3890 3919 3953]]\n"
     ]
    }
   ],
   "source": [
    "# Check split_properties to see the array of property values in the first compound\n",
    "print(split_properties)"
   ]
  },
  {
   "cell_type": "code",
   "execution_count": 64,
   "metadata": {},
   "outputs": [
    {
     "data": {
      "text/plain": [
       "1"
      ]
     },
     "execution_count": 64,
     "metadata": {},
     "output_type": "execute_result"
    }
   ],
   "source": [
    "# Pass the first value of the split_properties array (minus one) as an index of the binarize_properties array.\n",
    "#  If binarization is successful, then the value here will equal '1'\n",
    "binarize_properties[split_properties[0][0]-1]"
   ]
  },
  {
   "cell_type": "code",
   "execution_count": 65,
   "metadata": {
    "collapsed": true
   },
   "outputs": [],
   "source": [
    "# Now that we have the first fully binarized row of compound properties, let's add the other rows using vstack\n",
    "#  in a for loop since we know exactly how many rows there are\n",
    "\n",
    "for i in range(24999):\n",
    "    # get the numpy.ndarray class representation of the ECFP property values per \"cell\" (pandas column value per row)\n",
    "    #  here it is [i+1:i+2] because we want to start at [1:2] and i begins as '0'   \n",
    "    ECFP_properties = df[i+1:i+2].ECFP6_fp.values\n",
    "    \n",
    "    # split each numpy.ndarray \"cell\" on the comma delimiter\n",
    "    split_properties = np.array([x.split(',') for x in ECFP_properties], dtype=np.int)\n",
    "    \n",
    "    # initialize the placeholder array of zeros have the same number of columns as the value of the \n",
    "    #  last unique property value previously stored as a variable \"last_unique_property_value\"\n",
    "    binarize_zeros = np.zeros(last_unique_property_value).astype(int)\n",
    "    \n",
    "    # use a for loop to binarize the properties from each compound     \n",
    "    for value in split_properties:\n",
    "        binarize_zeros[value-1] = 1\n",
    "        \n",
    "    # use vstack to combine the arrays vertically\n",
    "    binarize_properties = np.vstack((binarize_properties, binarize_zeros))"
   ]
  },
  {
   "cell_type": "code",
   "execution_count": 66,
   "metadata": {},
   "outputs": [
    {
     "name": "stdout",
     "output_type": "stream",
     "text": [
      "(25000, 4095)\n"
     ]
    }
   ],
   "source": [
    "# Check the dimensions of the binarize_properties array\n",
    "#  The dimensions here should be the expected number of rows in the CSV file, and the same of columns as the value \n",
    "#   of last_unique_property_value\n",
    "print(binarize_properties.shape)"
   ]
  },
  {
   "cell_type": "code",
   "execution_count": 67,
   "metadata": {
    "collapsed": true
   },
   "outputs": [],
   "source": [
    "# Save the binarize_properties array into a txt file delimited by spaces and containing only integers\n",
    "#  Use the previously defined variable \"output_txt_file_name\" as the txt file name here\n",
    "np.savetxt(output_txt_file_name, binarize_properties, delimiter=\" \", fmt='%i')"
   ]
  },
  {
   "cell_type": "code",
   "execution_count": 68,
   "metadata": {
    "collapsed": true
   },
   "outputs": [],
   "source": [
    "# Add the LargeVis format header row to the txt file so that the LargeVis algorithm can execute properly\n",
    "with open(output_txt_file_name,'w') as out:\n",
    "    out.write(\"{} {}\\n\".format(*binarize_properties.shape))\n",
    "    for row in binarize_properties:\n",
    "        out.write(' '.join(row.astype(str))+'\\n')"
   ]
  },
  {
   "cell_type": "code",
   "execution_count": null,
   "metadata": {
    "collapsed": true
   },
   "outputs": [],
   "source": []
  },
  {
   "cell_type": "code",
   "execution_count": null,
   "metadata": {
    "collapsed": true
   },
   "outputs": [],
   "source": []
  },
  {
   "cell_type": "code",
   "execution_count": null,
   "metadata": {
    "collapsed": true
   },
   "outputs": [],
   "source": []
  },
  {
   "cell_type": "code",
   "execution_count": null,
   "metadata": {
    "collapsed": true
   },
   "outputs": [],
   "source": []
  },
  {
   "cell_type": "code",
   "execution_count": null,
   "metadata": {
    "collapsed": true
   },
   "outputs": [],
   "source": []
  },
  {
   "cell_type": "code",
   "execution_count": null,
   "metadata": {
    "collapsed": true
   },
   "outputs": [],
   "source": []
  },
  {
   "cell_type": "code",
   "execution_count": null,
   "metadata": {
    "collapsed": true
   },
   "outputs": [],
   "source": []
  },
  {
   "cell_type": "code",
   "execution_count": null,
   "metadata": {
    "collapsed": true
   },
   "outputs": [],
   "source": []
  },
  {
   "cell_type": "code",
   "execution_count": null,
   "metadata": {
    "collapsed": true
   },
   "outputs": [],
   "source": []
  },
  {
   "cell_type": "code",
   "execution_count": null,
   "metadata": {
    "collapsed": true
   },
   "outputs": [],
   "source": []
  }
 ],
 "metadata": {
  "kernelspec": {
   "display_name": "Python 3",
   "language": "python",
   "name": "python3"
  },
  "language_info": {
   "codemirror_mode": {
    "name": "ipython",
    "version": 3
   },
   "file_extension": ".py",
   "mimetype": "text/x-python",
   "name": "python",
   "nbconvert_exporter": "python",
   "pygments_lexer": "ipython3",
   "version": "3.6.1"
  }
 },
 "nbformat": 4,
 "nbformat_minor": 2
}
