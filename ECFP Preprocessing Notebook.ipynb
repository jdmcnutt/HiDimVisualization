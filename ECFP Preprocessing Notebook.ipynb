{
 "cells": [
  {
   "cell_type": "markdown",
   "metadata": {},
   "source": [
    "### Notebook Author: Jonathan McNutt\n",
    "#### Date: 04/16/2018\n",
    "\n",
    "Code completed as part of a Harvard graduate student faculty aide research project during the Spring 2018 semester for a presentation on high-dimensional visualization techniques, presented by Professor Peter Henstock during the Bio-IT World 2018 Conference in Boston, MA.\n"
   ]
  },
  {
   "cell_type": "code",
   "execution_count": 1,
   "metadata": {
    "collapsed": true
   },
   "outputs": [],
   "source": [
    "import pandas as pd\n",
    "import numpy as np"
   ]
  },
  {
   "cell_type": "code",
   "execution_count": 2,
   "metadata": {
    "collapsed": true
   },
   "outputs": [],
   "source": [
    "# Set the input_csv_file_name variable\n",
    "input_csv_file_name = \"ugiSmiles100000aECFP.csv\""
   ]
  },
  {
   "cell_type": "code",
   "execution_count": 3,
   "metadata": {
    "collapsed": true
   },
   "outputs": [],
   "source": [
    "# Set the output_txt_file_name variable\n",
    "output_txt_file_name = \"test_ECFP_a.txt\""
   ]
  },
  {
   "cell_type": "code",
   "execution_count": 4,
   "metadata": {
    "collapsed": true
   },
   "outputs": [],
   "source": [
    "df = pd.read_csv(input_csv_file_name)"
   ]
  },
  {
   "cell_type": "code",
   "execution_count": 5,
   "metadata": {},
   "outputs": [
    {
     "data": {
      "text/html": [
       "<div>\n",
       "<style>\n",
       "    .dataframe thead tr:only-child th {\n",
       "        text-align: right;\n",
       "    }\n",
       "\n",
       "    .dataframe thead th {\n",
       "        text-align: left;\n",
       "    }\n",
       "\n",
       "    .dataframe tbody tr th {\n",
       "        vertical-align: top;\n",
       "    }\n",
       "</style>\n",
       "<table border=\"1\" class=\"dataframe\">\n",
       "  <thead>\n",
       "    <tr style=\"text-align: right;\">\n",
       "      <th></th>\n",
       "      <th>PCAT_CMPD_ID</th>\n",
       "      <th>smiles</th>\n",
       "      <th>ECFP6_fp</th>\n",
       "    </tr>\n",
       "  </thead>\n",
       "  <tbody>\n",
       "    <tr>\n",
       "      <th>0</th>\n",
       "      <td>pvh13</td>\n",
       "      <td>CCCCNC(=O)C(C1CCC=CC1)N(C1CCCC1)C(=O)C1(CC1)c1...</td>\n",
       "      <td>115,200,281,323,378,438,481,528,534,602,697,71...</td>\n",
       "    </tr>\n",
       "    <tr>\n",
       "      <th>1</th>\n",
       "      <td>pvh15</td>\n",
       "      <td>Cc1cccc(C)c1NC(=O)C(C1CCC=CC1)N(C1CCCC1)C(=O)C...</td>\n",
       "      <td>115,200,281,323,378,438,481,528,534,611,697,71...</td>\n",
       "    </tr>\n",
       "    <tr>\n",
       "      <th>2</th>\n",
       "      <td>pvh19</td>\n",
       "      <td>CC(C)(C)NC(=O)C(c1n(C)ccc1)N(C1CCCC1)C(=O)C1(C...</td>\n",
       "      <td>115,323,345,378,649,711,772,788,792,808,859,86...</td>\n",
       "    </tr>\n",
       "    <tr>\n",
       "      <th>3</th>\n",
       "      <td>pvh29</td>\n",
       "      <td>CC(C)(CC(C)(C)C)NC(=O)C(c1c(Cl)cccc1)N(C1CCCC1...</td>\n",
       "      <td>115,221,323,345,378,395,506,521,711,772,788,79...</td>\n",
       "    </tr>\n",
       "    <tr>\n",
       "      <th>4</th>\n",
       "      <td>pvh42</td>\n",
       "      <td>Cc1cccc(C)c1NC(=O)C(c1c(OC)cccc1)N(C1CCCC1)C(=...</td>\n",
       "      <td>6,115,323,345,378,611,711,772,788,792,808,874,...</td>\n",
       "    </tr>\n",
       "  </tbody>\n",
       "</table>\n",
       "</div>"
      ],
      "text/plain": [
       "  PCAT_CMPD_ID                                             smiles  \\\n",
       "0        pvh13  CCCCNC(=O)C(C1CCC=CC1)N(C1CCCC1)C(=O)C1(CC1)c1...   \n",
       "1        pvh15  Cc1cccc(C)c1NC(=O)C(C1CCC=CC1)N(C1CCCC1)C(=O)C...   \n",
       "2        pvh19  CC(C)(C)NC(=O)C(c1n(C)ccc1)N(C1CCCC1)C(=O)C1(C...   \n",
       "3        pvh29  CC(C)(CC(C)(C)C)NC(=O)C(c1c(Cl)cccc1)N(C1CCCC1...   \n",
       "4        pvh42  Cc1cccc(C)c1NC(=O)C(c1c(OC)cccc1)N(C1CCCC1)C(=...   \n",
       "\n",
       "                                            ECFP6_fp  \n",
       "0  115,200,281,323,378,438,481,528,534,602,697,71...  \n",
       "1  115,200,281,323,378,438,481,528,534,611,697,71...  \n",
       "2  115,323,345,378,649,711,772,788,792,808,859,86...  \n",
       "3  115,221,323,345,378,395,506,521,711,772,788,79...  \n",
       "4  6,115,323,345,378,611,711,772,788,792,808,874,...  "
      ]
     },
     "execution_count": 5,
     "metadata": {},
     "output_type": "execute_result"
    }
   ],
   "source": [
    "df.head()"
   ]
  },
  {
   "cell_type": "code",
   "execution_count": 6,
   "metadata": {
    "collapsed": true
   },
   "outputs": [],
   "source": [
    "# Initialize the array that will hold the ECFP property values\n",
    "property_array = []"
   ]
  },
  {
   "cell_type": "code",
   "execution_count": 7,
   "metadata": {
    "collapsed": true
   },
   "outputs": [],
   "source": [
    "# Use a for loop to extract, split and append the ECFP property values to \"property_array\"\n",
    "for i in range(25000):\n",
    "    # get the numpy.ndarray class representation of the ECFP property values per \"cell\" (pandas column value per row)\n",
    "    ECFP_properties = df[i:i+1].ECFP6_fp.values\n",
    "    \n",
    "    # split each numpy.ndarray \"cell\" on the comma delimiter\n",
    "    split_properties = np.array([x.split(',') for x in ECFP_properties], dtype=np.int)\n",
    "    \n",
    "    # append the property values for each \"cell\" to the combined array\n",
    "    property_array = np.append(property_array, split_properties)"
   ]
  },
  {
   "cell_type": "code",
   "execution_count": 8,
   "metadata": {},
   "outputs": [
    {
     "name": "stdout",
     "output_type": "stream",
     "text": [
      "2142765\n"
     ]
    }
   ],
   "source": [
    "# Check the size of the final appended array    \n",
    "print(property_array.size)"
   ]
  },
  {
   "cell_type": "code",
   "execution_count": 9,
   "metadata": {
    "collapsed": true
   },
   "outputs": [],
   "source": [
    "# Create a new array, unique_properties, that holds only the unique integer values in the property_array\n",
    "unique_properties = np.unique(property_array).astype(int)"
   ]
  },
  {
   "cell_type": "code",
   "execution_count": 10,
   "metadata": {},
   "outputs": [
    {
     "name": "stdout",
     "output_type": "stream",
     "text": [
      "4027\n"
     ]
    }
   ],
   "source": [
    "# Check the size of the property array when counting only the unique values\n",
    "print(unique_properties.size)"
   ]
  },
  {
   "cell_type": "code",
   "execution_count": 11,
   "metadata": {},
   "outputs": [
    {
     "name": "stdout",
     "output_type": "stream",
     "text": [
      "[   1    2    3 ..., 4093 4094 4095]\n"
     ]
    }
   ],
   "source": [
    "# Check the final value of unique_properties\n",
    "print(unique_properties)"
   ]
  },
  {
   "cell_type": "code",
   "execution_count": 12,
   "metadata": {
    "collapsed": true
   },
   "outputs": [],
   "source": [
    "# Save the last value of unique_properties as a variable so it can be called later \n",
    "#  as the array lenth when initializing an array of zeros\n",
    "last_unique_property_value = unique_properties[len(unique_properties)-1]"
   ]
  },
  {
   "cell_type": "code",
   "execution_count": 13,
   "metadata": {},
   "outputs": [
    {
     "name": "stdout",
     "output_type": "stream",
     "text": [
      "4095\n"
     ]
    }
   ],
   "source": [
    "# Check the last value of unique_properties (this is the highest integer-value property in the CSV file)\n",
    "print(last_unique_property_value)"
   ]
  },
  {
   "cell_type": "raw",
   "metadata": {},
   "source": [
    "After creating the array unique_properties, the next step is create a binarized array of the first compound's properties, and then use a for loop to vstack all the other binarized property arrays to the first binarized property array.  Finally, the binarized output is sent to a txt file with a LargeVis formatted header added as the first row of the txt file.  The result should be that the header row contains two numbers: the first number is the total rows, and the second number is the total columns.  After the header row, the binarized output follows.  This txt file can be used as the input file in the LargeVis execution command."
   ]
  },
  {
   "cell_type": "code",
   "execution_count": 14,
   "metadata": {
    "collapsed": true
   },
   "outputs": [],
   "source": [
    "# Get the first compound's numpy.ndarray class representation of the ECFP property values\n",
    "ECFP_properties = df[0:1].ECFP6_fp.values"
   ]
  },
  {
   "cell_type": "code",
   "execution_count": 15,
   "metadata": {
    "collapsed": true
   },
   "outputs": [],
   "source": [
    "# Split the numpy.ndarray \"cell\" on the comma delimiter\n",
    "split_properties = np.array([x.split(',') for x in ECFP_properties], dtype=np.int)"
   ]
  },
  {
   "cell_type": "code",
   "execution_count": 16,
   "metadata": {
    "collapsed": true
   },
   "outputs": [],
   "source": [
    "# Initialize the placeholder array of zeros to have the same number of columns as the value of the \n",
    "#  last unique property value previously stored as a variable \"last_unique_property_value\"  \n",
    "binarize_properties = np.zeros(last_unique_property_value).astype(int)"
   ]
  },
  {
   "cell_type": "code",
   "execution_count": 17,
   "metadata": {},
   "outputs": [
    {
     "data": {
      "text/plain": [
       "4095"
      ]
     },
     "execution_count": 17,
     "metadata": {},
     "output_type": "execute_result"
    }
   ],
   "source": [
    "# Check the size of the zeroed array to make sure it is the same value as \"last_unique_property_value\"\n",
    "binarize_properties.size"
   ]
  },
  {
   "cell_type": "code",
   "execution_count": 18,
   "metadata": {
    "collapsed": true
   },
   "outputs": [],
   "source": [
    "# Use a for loop to binarize the properties from the first compound\n",
    "for value in split_properties:\n",
    "    binarize_properties[value-1] = 1"
   ]
  },
  {
   "cell_type": "code",
   "execution_count": 19,
   "metadata": {},
   "outputs": [
    {
     "name": "stdout",
     "output_type": "stream",
     "text": [
      "[[ 115  200  281  323  378  438  481  528  534  602  697  711  741  772\n",
      "   788  792  808  874  908  984  998 1036 1086 1288 1322 1365 1382 1407\n",
      "  1408 1417 1576 1609 1695 1718 1733 1849 1879 1924 1998 2003 2096 2119\n",
      "  2166 2184 2237 2258 2283 2299 2318 2348 2381 2460 2723 2728 2762 2831\n",
      "  2939 2942 2955 2961 2987 3016 3021 3247 3265 3451 3465 3475 3522 3569\n",
      "  3647 3657 3662 3670 3694 3890 3919 3953]]\n"
     ]
    }
   ],
   "source": [
    "# Check split_properties to see the array of property values in the first compound\n",
    "print(split_properties)"
   ]
  },
  {
   "cell_type": "code",
   "execution_count": 20,
   "metadata": {},
   "outputs": [
    {
     "data": {
      "text/plain": [
       "1"
      ]
     },
     "execution_count": 20,
     "metadata": {},
     "output_type": "execute_result"
    }
   ],
   "source": [
    "# Pass the first value of the split_properties array (minus one) as an index of the binarize_properties array.\n",
    "#  If binarization is successful, then the value here will equal '1'\n",
    "binarize_properties[split_properties[0][0]-1]"
   ]
  },
  {
   "cell_type": "code",
   "execution_count": 21,
   "metadata": {
    "collapsed": true
   },
   "outputs": [],
   "source": [
    "# Now that we have the first fully binarized row of compound properties, let's add the other rows using vstack\n",
    "#  in a for loop since we know exactly how many rows there are\n",
    "\n",
    "for i in range(24999):\n",
    "    # get the numpy.ndarray class representation of the ECFP property values per \"cell\" (pandas column value per row)\n",
    "    #  here it is [i+1:i+2] because we want to start at [1:2] and i begins as '0'   \n",
    "    ECFP_properties = df[i+1:i+2].ECFP6_fp.values\n",
    "    \n",
    "    # split each numpy.ndarray \"cell\" on the comma delimiter\n",
    "    split_properties = np.array([x.split(',') for x in ECFP_properties], dtype=np.int)\n",
    "    \n",
    "    # initialize the placeholder array of zeros have the same number of columns as the value of the \n",
    "    #  last unique property value previously stored as a variable \"last_unique_property_value\"\n",
    "    binarize_zeros = np.zeros(last_unique_property_value).astype(int)\n",
    "    \n",
    "    # use a for loop to binarize the properties from each compound     \n",
    "    for value in split_properties:\n",
    "        binarize_zeros[value-1] = 1\n",
    "        \n",
    "    # use vstack to combine the arrays vertically\n",
    "    binarize_properties = np.vstack((binarize_properties, binarize_zeros))"
   ]
  },
  {
   "cell_type": "code",
   "execution_count": 22,
   "metadata": {},
   "outputs": [
    {
     "name": "stdout",
     "output_type": "stream",
     "text": [
      "(25000, 4095)\n"
     ]
    }
   ],
   "source": [
    "# Check the dimensions of the binarize_properties array\n",
    "#  The dimensions here should be the expected number of rows in the CSV file, and the same of columns as the value \n",
    "#   of last_unique_property_value\n",
    "print(binarize_properties.shape)"
   ]
  },
  {
   "cell_type": "code",
   "execution_count": 23,
   "metadata": {
    "collapsed": true
   },
   "outputs": [],
   "source": [
    "# Save the binarize_properties array into a txt file delimited by spaces and containing only integers\n",
    "#  Use the previously defined variable \"output_txt_file_name\" as the txt file name here\n",
    "np.savetxt(output_txt_file_name, binarize_properties, delimiter=\" \", fmt='%i')"
   ]
  },
  {
   "cell_type": "code",
   "execution_count": 24,
   "metadata": {
    "collapsed": true
   },
   "outputs": [],
   "source": [
    "# Add the LargeVis format header row to the txt file so that the LargeVis algorithm can execute properly\n",
    "with open(output_txt_file_name,'w') as out:\n",
    "    out.write(\"{} {}\\n\".format(*binarize_properties.shape))\n",
    "    for row in binarize_properties:\n",
    "        out.write(' '.join(row.astype(str))+'\\n')"
   ]
  },
  {
   "cell_type": "code",
   "execution_count": null,
   "metadata": {
    "collapsed": true
   },
   "outputs": [],
   "source": []
  },
  {
   "cell_type": "code",
   "execution_count": null,
   "metadata": {
    "collapsed": true
   },
   "outputs": [],
   "source": []
  },
  {
   "cell_type": "code",
   "execution_count": null,
   "metadata": {
    "collapsed": true
   },
   "outputs": [],
   "source": []
  },
  {
   "cell_type": "code",
   "execution_count": null,
   "metadata": {
    "collapsed": true
   },
   "outputs": [],
   "source": []
  },
  {
   "cell_type": "code",
   "execution_count": null,
   "metadata": {
    "collapsed": true
   },
   "outputs": [],
   "source": []
  },
  {
   "cell_type": "code",
   "execution_count": null,
   "metadata": {
    "collapsed": true
   },
   "outputs": [],
   "source": []
  },
  {
   "cell_type": "code",
   "execution_count": null,
   "metadata": {
    "collapsed": true
   },
   "outputs": [],
   "source": []
  },
  {
   "cell_type": "code",
   "execution_count": null,
   "metadata": {
    "collapsed": true
   },
   "outputs": [],
   "source": []
  },
  {
   "cell_type": "code",
   "execution_count": null,
   "metadata": {
    "collapsed": true
   },
   "outputs": [],
   "source": []
  },
  {
   "cell_type": "code",
   "execution_count": null,
   "metadata": {
    "collapsed": true
   },
   "outputs": [],
   "source": []
  }
 ],
 "metadata": {
  "kernelspec": {
   "display_name": "Python 3",
   "language": "python",
   "name": "python3"
  },
  "language_info": {
   "codemirror_mode": {
    "name": "ipython",
    "version": 3
   },
   "file_extension": ".py",
   "mimetype": "text/x-python",
   "name": "python",
   "nbconvert_exporter": "python",
   "pygments_lexer": "ipython3",
   "version": "3.6.1"
  }
 },
 "nbformat": 4,
 "nbformat_minor": 2
}
